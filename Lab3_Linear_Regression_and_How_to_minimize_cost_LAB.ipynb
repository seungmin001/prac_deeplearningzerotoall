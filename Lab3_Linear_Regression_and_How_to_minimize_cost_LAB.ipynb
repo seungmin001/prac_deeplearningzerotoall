{
  "nbformat": 4,
  "nbformat_minor": 0,
  "metadata": {
    "colab": {
      "name": "Lab3 - Linear Regression and How to minimize cost LAB.ipynb",
      "provenance": [],
      "collapsed_sections": [],
      "authorship_tag": "ABX9TyMktDSJrd3QAnQt9NwWFOZD",
      "include_colab_link": true
    },
    "kernelspec": {
      "name": "python3",
      "display_name": "Python 3"
    }
  },
  "cells": [
    {
      "cell_type": "markdown",
      "metadata": {
        "id": "view-in-github",
        "colab_type": "text"
      },
      "source": [
        "<a href=\"https://colab.research.google.com/github/seungmin001/prac_deeplearningzerotoall/blob/main/Lab3_Linear_Regression_and_How_to_minimize_cost_LAB.ipynb\" target=\"_parent\"><img src=\"https://colab.research.google.com/assets/colab-badge.svg\" alt=\"Open In Colab\"/></a>"
      ]
    },
    {
      "cell_type": "markdown",
      "metadata": {
        "id": "5XljYcqtPtnY"
      },
      "source": [
        "# cost function in Python"
      ]
    },
    {
      "cell_type": "code",
      "metadata": {
        "colab": {
          "base_uri": "https://localhost:8080/"
        },
        "id": "GqQN45gpPlAE",
        "outputId": "9a1add63-9e02-40d1-dafc-4ae564d941ae"
      },
      "source": [
        "import numpy as np\r\n",
        "\r\n",
        "# Data\r\n",
        "X = np.array([1,2,3])\r\n",
        "Y = np.array([1,2,3])\r\n",
        "\r\n",
        "def cost_func(W,X,Y):\r\n",
        "    c = 0\r\n",
        "    for i in range(len(X)):\r\n",
        "        c += (W * X[i] - Y[i]) ** 2 # error ** 2\r\n",
        "    return c / len(X) # average\r\n",
        "\r\n",
        "W = np.linspace(-3, 5, num=15)\r\n",
        "for feed_W in W:\r\n",
        "    curr_cost=cost_func(feed_W, X, Y)\r\n",
        "    print(\"{:6.3f} | {:10.5f}\".format(feed_W, curr_cost))"
      ],
      "execution_count": 8,
      "outputs": [
        {
          "output_type": "stream",
          "text": [
            "-3.000 |   74.66667\n",
            "-2.429 |   54.85714\n",
            "-1.857 |   38.09524\n",
            "-1.286 |   24.38095\n",
            "-0.714 |   13.71429\n",
            "-0.143 |    6.09524\n",
            " 0.429 |    1.52381\n",
            " 1.000 |    0.00000\n",
            " 1.571 |    1.52381\n",
            " 2.143 |    6.09524\n",
            " 2.714 |   13.71429\n",
            " 3.286 |   24.38095\n",
            " 3.857 |   38.09524\n",
            " 4.429 |   54.85714\n",
            " 5.000 |   74.66667\n"
          ],
          "name": "stdout"
        }
      ]
    },
    {
      "cell_type": "markdown",
      "metadata": {
        "id": "8KJ49sK9SAkj"
      },
      "source": [
        "# cost function in Tensorflow\r\n",
        "\r\n"
      ]
    },
    {
      "cell_type": "code",
      "metadata": {
        "colab": {
          "base_uri": "https://localhost:8080/"
        },
        "id": "AADoz98NRFaf",
        "outputId": "0fbe9fcc-20cc-4b41-f5a5-481006fcea0c"
      },
      "source": [
        "import tensorflow as tf\r\n",
        "\r\n",
        "X=np.array([1,2,3])\r\n",
        "Y=np.array([1,2,3])\r\n",
        "\r\n",
        "def cost_func(W,X,Y):\r\n",
        "    hypothesis = W * X\r\n",
        "    return tf.reduce_mean(tf.square(hypothesis - Y))\r\n",
        "\r\n",
        "W = np.linspace(-3, 5, num=15)\r\n",
        "cost_values=[]\r\n",
        "\r\n",
        "for feed_W in W:\r\n",
        "    curr_cost = cost_func(feed_W, X , Y)\r\n",
        "    cost_values.append(curr_cost)\r\n",
        "    print(\"{:6.3f} | {:10.5f}\".format(feed_W, curr_cost))"
      ],
      "execution_count": 10,
      "outputs": [
        {
          "output_type": "stream",
          "text": [
            "-3.000 |   74.66667\n",
            "-2.429 |   54.85714\n",
            "-1.857 |   38.09524\n",
            "-1.286 |   24.38095\n",
            "-0.714 |   13.71429\n",
            "-0.143 |    6.09524\n",
            " 0.429 |    1.52381\n",
            " 1.000 |    0.00000\n",
            " 1.571 |    1.52381\n",
            " 2.143 |    6.09524\n",
            " 2.714 |   13.71429\n",
            " 3.286 |   24.38095\n",
            " 3.857 |   38.09524\n",
            " 4.429 |   54.85714\n",
            " 5.000 |   74.66667\n"
          ],
          "name": "stdout"
        }
      ]
    },
    {
      "cell_type": "markdown",
      "metadata": {
        "id": "Gudc-zPcTfbw"
      },
      "source": [
        "# Gradient Descent"
      ]
    },
    {
      "cell_type": "code",
      "metadata": {
        "colab": {
          "base_uri": "https://localhost:8080/"
        },
        "id": "UHrNgfIWTTkH",
        "outputId": "1340da72-4b24-436b-8010-099dd550937b"
      },
      "source": [
        "import tensorflow as tf\r\n",
        "\r\n",
        "tf.random.set_seed(0) # for reproducibility\r\n",
        "\r\n",
        "# Data\r\n",
        "x_data = [1.,2.,3.,4.]\r\n",
        "y_data = [1., 3., 5., 7.]\r\n",
        "\r\n",
        "# W의 초기값이 무엇이든지 수렴함\r\n",
        "W= tf.Variable(tf.random.normal([1],-100.,100.))\r\n",
        "# W= tf.Variable([5.0])\r\n",
        "\r\n",
        "for i in range(300):\r\n",
        "    # cost\r\n",
        "    hypothesis = W * X\r\n",
        "    cost = tf.reduce_mean(tf.square(hypothesis - Y))\r\n",
        "\r\n",
        "    # gradient descent : (cost에서 W 편미분 한 값 * alpha)을 W에서 빼기\r\n",
        "    alpha = 0.01\r\n",
        "    gradient = tf.reduce_mean( tf.multiply( tf.multiply(W,X) - Y, X))\r\n",
        "    descent = W - tf.multiply(gradient, alpha)\r\n",
        "    W.assign(descent)\r\n",
        "\r\n",
        "    if i % 10 == 0:\r\n",
        "        print(\"{:5} | {:10.4f} | {:10.6f}\".format(i, cost.numpy(), W.numpy()[0]))\r\n"
      ],
      "execution_count": 26,
      "outputs": [
        {
          "output_type": "stream",
          "text": [
            "    0 | 11716.3086 |  48.767971\n",
            "   10 |  4504.9126 |  30.619968\n",
            "   20 |  1732.1364 |  19.366755\n",
            "   30 |   666.0052 |  12.388859\n",
            "   40 |   256.0785 |   8.062004\n",
            "   50 |    98.4620 |   5.379007\n",
            "   60 |    37.8586 |   3.715335\n",
            "   70 |    14.5566 |   2.683725\n",
            "   80 |     5.5970 |   2.044044\n",
            "   90 |     2.1520 |   1.647391\n",
            "  100 |     0.8275 |   1.401434\n",
            "  110 |     0.3182 |   1.248922\n",
            "  120 |     0.1223 |   1.154351\n",
            "  130 |     0.0470 |   1.095710\n",
            "  140 |     0.0181 |   1.059348\n",
            "  150 |     0.0070 |   1.036801\n",
            "  160 |     0.0027 |   1.022819\n",
            "  170 |     0.0010 |   1.014150\n",
            "  180 |     0.0004 |   1.008774\n",
            "  190 |     0.0002 |   1.005441\n",
            "  200 |     0.0001 |   1.003374\n",
            "  210 |     0.0000 |   1.002092\n",
            "  220 |     0.0000 |   1.001297\n",
            "  230 |     0.0000 |   1.000804\n",
            "  240 |     0.0000 |   1.000499\n",
            "  250 |     0.0000 |   1.000309\n",
            "  260 |     0.0000 |   1.000192\n",
            "  270 |     0.0000 |   1.000119\n",
            "  280 |     0.0000 |   1.000074\n",
            "  290 |     0.0000 |   1.000046\n"
          ],
          "name": "stdout"
        }
      ]
    },
    {
      "cell_type": "code",
      "metadata": {
        "colab": {
          "base_uri": "https://localhost:8080/"
        },
        "id": "gWgzEpgKXMmL",
        "outputId": "af37b3e1-6e50-4ac7-9e28-7439d1776e49"
      },
      "source": [
        "tf.random.set_seed(5);\r\n",
        "tf.random.normal([4], 0, 1, tf.float32)\r\n",
        "# [shape], mean, stddev"
      ],
      "execution_count": 27,
      "outputs": [
        {
          "output_type": "execute_result",
          "data": {
            "text/plain": [
              "<tf.Tensor: shape=(4,), dtype=float32, numpy=array([-0.18030666, -0.95028627, -0.03964049, -0.7425406 ], dtype=float32)>"
            ]
          },
          "metadata": {
            "tags": []
          },
          "execution_count": 27
        }
      ]
    }
  ]
}