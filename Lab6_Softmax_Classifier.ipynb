{
  "nbformat": 4,
  "nbformat_minor": 0,
  "metadata": {
    "colab": {
      "name": "Lab6 - Softmax Classifier.ipynb",
      "provenance": [],
      "collapsed_sections": [],
      "authorship_tag": "ABX9TyMHLaqABjmkk5r5NNmLRuSh",
      "include_colab_link": true
    },
    "kernelspec": {
      "name": "python3",
      "display_name": "Python 3"
    }
  },
  "cells": [
    {
      "cell_type": "markdown",
      "metadata": {
        "id": "view-in-github",
        "colab_type": "text"
      },
      "source": [
        "<a href=\"https://colab.research.google.com/github/seungmin001/prac_deeplearningzerotoall/blob/main/Lab6_Softmax_Classifier.ipynb\" target=\"_parent\"><img src=\"https://colab.research.google.com/assets/colab-badge.svg\" alt=\"Open In Colab\"/></a>"
      ]
    },
    {
      "cell_type": "code",
      "metadata": {
        "colab": {
          "base_uri": "https://localhost:8080/"
        },
        "id": "GMcnYK3c0DJp",
        "outputId": "e68a087f-d1b3-4427-decb-9ae967e047b4"
      },
      "source": [
        "# multinomial classification\r\n",
        "import tensorflow as tf\r\n",
        "import numpy as np\r\n",
        "\r\n",
        "# Data\r\n",
        "x_data= np.array([ # 4 features, 8 data\r\n",
        "    [1,2,1,1],\r\n",
        "    [2,1,3,2],\r\n",
        "    [3,1,3,4],\r\n",
        "    [4,1,5,5],\r\n",
        "    [1,7,5,5],\r\n",
        "    [1,2,5,6],\r\n",
        "    [1,6,6,6],\r\n",
        "    [1,7,7,7]\r\n",
        "], dtype=np.float32)\r\n",
        "\r\n",
        "y_data = np.array([ # 3 label, 8 data\r\n",
        "    [0,0,1],\r\n",
        "    [0,0,1],\r\n",
        "    [0,0,1],\r\n",
        "    [0,1,0],\r\n",
        "    [0,1,0],\r\n",
        "    [0,1,0],\r\n",
        "    [1,0,0],\r\n",
        "    [1,0,0],\r\n",
        "], dtype=np.float32)\r\n",
        "\r\n",
        "nb_classes = 3 # num of classes\r\n",
        "\r\n",
        "\r\n",
        "# Weight, bias\r\n",
        "W = tf.Variable(tf.random.normal([4,3]), name='Weight')\r\n",
        "b = tf.Variable(tf.random.normal([1]), name='bias')\r\n",
        "\r\n",
        "\r\n",
        "########\r\n",
        "# raw code\r\n",
        "\r\n",
        "# hypothesis = 일차함수 W*X + b, softmax로 y값 확률으로 바꾸기\r\n",
        "hypothesis = tf.nn.softmax(tf.matmul(x_data,W)+b)\r\n",
        "print(hypothesis)\r\n",
        "\r\n",
        "# cost function : cross entropy\r\n",
        "cost = tf.reduce_mean( - tf.reduce_sum(y_data * tf.math.log(hypothesis), axis=1))\r\n",
        "print(cost)\r\n",
        "\r\n",
        "# optimizer (Gradient Descent에 사용되는 도구)\r\n",
        "optimizer= tf.keras.optimizers.SGD(learning_rate=0.01)\r\n"
      ],
      "execution_count": 2,
      "outputs": [
        {
          "output_type": "stream",
          "text": [
            "tf.Tensor(\n",
            "[[8.2298875e-01 2.5095740e-02 1.5191555e-01]\n",
            " [9.1766232e-01 7.9036849e-03 7.4433997e-02]\n",
            " [9.8742515e-01 4.0674480e-03 8.5074054e-03]\n",
            " [9.9658465e-01 4.3234703e-04 2.9830153e-03]\n",
            " [9.9649554e-01 1.4000380e-05 3.4904887e-03]\n",
            " [9.9320716e-01 2.0272324e-03 4.7656028e-03]\n",
            " [9.9778038e-01 1.8904004e-05 2.2007278e-03]\n",
            " [9.9912912e-01 3.5490773e-06 8.6738431e-04]], shape=(8, 3), dtype=float32)\n",
            "tf.Tensor(4.296997, shape=(), dtype=float32)\n"
          ],
          "name": "stdout"
        }
      ]
    },
    {
      "cell_type": "code",
      "metadata": {
        "colab": {
          "base_uri": "https://localhost:8080/"
        },
        "id": "S2j6iOV9vr2J",
        "outputId": "d5fc9638-61c4-4be0-b43e-2bf89cb2bf27"
      },
      "source": [
        "###############################################################################\r\n",
        "# 함수 형태로 작성\r\n",
        "\r\n",
        "# softmax hypothesis\r\n",
        "def hypothesis(X): \r\n",
        "    base = tf.matmul(X,W) + b\r\n",
        "    return tf.nn.softmax(base)\r\n",
        "\r\n",
        "hypothesis(x_data)"
      ],
      "execution_count": 3,
      "outputs": [
        {
          "output_type": "execute_result",
          "data": {
            "text/plain": [
              "<tf.Tensor: shape=(8, 3), dtype=float32, numpy=\n",
              "array([[8.2298875e-01, 2.5095740e-02, 1.5191555e-01],\n",
              "       [9.1766232e-01, 7.9036849e-03, 7.4433997e-02],\n",
              "       [9.8742515e-01, 4.0674480e-03, 8.5074054e-03],\n",
              "       [9.9658465e-01, 4.3234703e-04, 2.9830153e-03],\n",
              "       [9.9649554e-01, 1.4000380e-05, 3.4904887e-03],\n",
              "       [9.9320716e-01, 2.0272324e-03, 4.7656028e-03],\n",
              "       [9.9778038e-01, 1.8904004e-05, 2.2007278e-03],\n",
              "       [9.9912912e-01, 3.5490773e-06, 8.6738431e-04]], dtype=float32)>"
            ]
          },
          "metadata": {
            "tags": []
          },
          "execution_count": 3
        }
      ]
    },
    {
      "cell_type": "code",
      "metadata": {
        "colab": {
          "base_uri": "https://localhost:8080/"
        },
        "id": "n4qTn2EPMaWy",
        "outputId": "91f208af-d949-432a-ed81-e4e1e4ee486e"
      },
      "source": [
        "# cost func : cross-entropy\r\n",
        "def cost_func(X,Y):\r\n",
        "    logits=hypothesis(X)\r\n",
        "    cost_raw = - tf.reduce_sum( Y * tf.math.log(logits), axis=1)\r\n",
        "    cost_mean = tf.reduce_mean(cost_raw)\r\n",
        "    return cost_mean\r\n",
        "\r\n",
        "cost_func(x_data,y_data)"
      ],
      "execution_count": 4,
      "outputs": [
        {
          "output_type": "execute_result",
          "data": {
            "text/plain": [
              "<tf.Tensor: shape=(), dtype=float32, numpy=4.296997>"
            ]
          },
          "metadata": {
            "tags": []
          },
          "execution_count": 4
        }
      ]
    },
    {
      "cell_type": "code",
      "metadata": {
        "colab": {
          "base_uri": "https://localhost:8080/"
        },
        "id": "9rT7wYlFMbhD",
        "outputId": "5b164228-6852-4beb-ccc6-9bea0fe586c4"
      },
      "source": [
        "\r\n",
        "# gradient\r\n",
        "def grad_func(X,Y):\r\n",
        "    with tf.GradientTape() as tape:\r\n",
        "        cost=cost_func(X,Y)\r\n",
        "        grads=tape.gradient(cost, [W,b])\r\n",
        "        return grads\r\n",
        "\r\n",
        "grad_func(x_data, y_data)"
      ],
      "execution_count": 5,
      "outputs": [
        {
          "output_type": "execute_result",
          "data": {
            "text/plain": [
              "[<tf.Tensor: shape=(4, 3), dtype=float32, numpy=\n",
              " array([[ 1.4491925 , -0.74288774, -0.7063047 ],\n",
              "        [ 1.6862648 , -1.2416394 , -0.4446255 ],\n",
              "        [ 2.6812844 , -1.8658106 , -0.81547356],\n",
              "        [ 2.8141556 , -1.9910368 , -0.8231187 ]], dtype=float32)>,\n",
              " <tf.Tensor: shape=(1,), dtype=float32, numpy=array([0.], dtype=float32)>]"
            ]
          },
          "metadata": {
            "tags": []
          },
          "execution_count": 5
        }
      ]
    },
    {
      "cell_type": "code",
      "metadata": {
        "colab": {
          "base_uri": "https://localhost:8080/"
        },
        "id": "bD7rboduMfPa",
        "outputId": "f1b17e63-93f0-4e7e-bda6-ec0eec8da437"
      },
      "source": [
        "\r\n",
        "# optimizer (Gradient Descent에 사용되는 도구)\r\n",
        "optimizer= tf.keras.optimizers.SGD(learning_rate=0.01)\r\n",
        "\r\n",
        "epoch = 5000\r\n",
        "\r\n",
        "for step in range(epoch+1):\r\n",
        "    # cost계산\r\n",
        "    # with tf.GradientTape() as tape:\r\n",
        "    #    cost = tf.reduce_mean( - tf.reduce_sum(y_data * tf.math.log(hypothesis), axis=1))\r\n",
        "        \r\n",
        "    # cost 함수에 대한 W,b의 기울기 \r\n",
        "    # grads = tape.gradient(cost, variables)\r\n",
        "\r\n",
        "    grads=grad_func(x_data, y_data)\r\n",
        "    # 기울기 gradient descent 적용\r\n",
        "    optimizer.apply_gradients(zip(grads,[W,b]))\r\n",
        "\r\n",
        "    if step % 500 == 0:\r\n",
        "        print(\"{:5} | {:12.5f}\".format(step, cost_func(x_data,y_data)))\r\n"
      ],
      "execution_count": 6,
      "outputs": [
        {
          "output_type": "stream",
          "text": [
            "    0 |      3.98166\n",
            "  500 |      0.70948\n",
            " 1000 |      0.62454\n",
            " 1500 |      0.57770\n",
            " 2000 |      0.54545\n",
            " 2500 |      0.52064\n",
            " 3000 |      0.50028\n",
            " 3500 |      0.48283\n",
            " 4000 |      0.46746\n",
            " 4500 |      0.45363\n",
            " 5000 |      0.44100\n"
          ],
          "name": "stdout"
        }
      ]
    },
    {
      "cell_type": "code",
      "metadata": {
        "colab": {
          "base_uri": "https://localhost:8080/"
        },
        "id": "MZqLun8ucxs4",
        "outputId": "5228205f-8546-491e-fd62-427897e2aa84"
      },
      "source": [
        "#prediction\r\n",
        "\r\n",
        "sample_data = [[2,1,3,2]] # answer_label [[0,0,1]]\r\n",
        "sample_data = np.asarray(sample_data, dtype=np.float32)\r\n",
        "\r\n",
        "a = hypothesis(sample_data)\r\n",
        "\r\n",
        "print(a)\r\n",
        "print(tf.argmax(a, 1)) #index: 2"
      ],
      "execution_count": 7,
      "outputs": [
        {
          "output_type": "stream",
          "text": [
            "tf.Tensor([[0.02959524 0.28181067 0.68859416]], shape=(1, 3), dtype=float32)\n",
            "tf.Tensor([2], shape=(1,), dtype=int64)\n"
          ],
          "name": "stdout"
        }
      ]
    },
    {
      "cell_type": "code",
      "metadata": {
        "colab": {
          "base_uri": "https://localhost:8080/"
        },
        "id": "0OEAj5y7dYNt",
        "outputId": "47382549-f6cb-4870-afe2-38bc7d5a2f03"
      },
      "source": [
        "b = hypothesis(x_data)\r\n",
        "print(b)\r\n",
        "print(tf.argmax(b, 1))\r\n",
        "print(tf.argmax(y_data, 1)) # matches with y_data"
      ],
      "execution_count": 9,
      "outputs": [
        {
          "output_type": "stream",
          "text": [
            "tf.Tensor(\n",
            "[[5.4446836e-03 3.1460948e-02 9.6309441e-01]\n",
            " [1.7174548e-02 2.1045373e-01 7.7237171e-01]\n",
            " [4.4500301e-04 3.9921945e-01 6.0033548e-01]\n",
            " [3.5709579e-04 5.9840173e-01 4.0124124e-01]\n",
            " [5.5136400e-01 4.1116983e-01 3.7466154e-02]\n",
            " [1.7228895e-01 8.2768089e-01 3.0095776e-05]\n",
            " [6.8552101e-01 3.1378496e-01 6.9404894e-04]\n",
            " [8.0804318e-01 1.9184546e-01 1.1139441e-04]], shape=(8, 3), dtype=float32)\n",
            "tf.Tensor([2 2 2 1 0 1 0 0], shape=(8,), dtype=int64)\n",
            "tf.Tensor([2 2 2 1 1 1 0 0], shape=(8,), dtype=int64)\n"
          ],
          "name": "stdout"
        }
      ]
    }
  ]
}