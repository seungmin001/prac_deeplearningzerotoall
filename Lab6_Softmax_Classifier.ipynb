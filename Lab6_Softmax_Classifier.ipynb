{
  "nbformat": 4,
  "nbformat_minor": 0,
  "metadata": {
    "colab": {
      "name": "Lab6 - Softmax Classifier.ipynb",
      "provenance": [],
      "collapsed_sections": [],
      "authorship_tag": "ABX9TyODkCtgj2rYqB/M5Cb6uDt7",
      "include_colab_link": true
    },
    "kernelspec": {
      "name": "python3",
      "display_name": "Python 3"
    }
  },
  "cells": [
    {
      "cell_type": "markdown",
      "metadata": {
        "id": "view-in-github",
        "colab_type": "text"
      },
      "source": [
        "<a href=\"https://colab.research.google.com/github/seungmin001/prac_deeplearningzerotoall/blob/main/Lab6_Softmax_Classifier.ipynb\" target=\"_parent\"><img src=\"https://colab.research.google.com/assets/colab-badge.svg\" alt=\"Open In Colab\"/></a>"
      ]
    },
    {
      "cell_type": "code",
      "metadata": {
        "colab": {
          "base_uri": "https://localhost:8080/"
        },
        "id": "GMcnYK3c0DJp",
        "outputId": "140691f2-8c5a-4aa5-94a1-ca9b9f3b9b1c"
      },
      "source": [
        "# multinomial classification\r\n",
        "import tensorflow as tf\r\n",
        "import numpy as np\r\n",
        "\r\n",
        "# Data\r\n",
        "x_data= np.array([ # 4 features, 8 data\r\n",
        "    [1,2,1,1],\r\n",
        "    [2,1,3,2],\r\n",
        "    [3,1,3,4],\r\n",
        "    [4,1,5,5],\r\n",
        "    [1,7,5,5],\r\n",
        "    [1,2,5,6],\r\n",
        "    [1,6,6,6],\r\n",
        "    [1,7,7,7]\r\n",
        "], dtype=np.float32)\r\n",
        "\r\n",
        "y_data = np.array([ # 3 label, 8 data\r\n",
        "    [0,0,1],\r\n",
        "    [0,0,1],\r\n",
        "    [0,0,1],\r\n",
        "    [0,1,0],\r\n",
        "    [0,1,0],\r\n",
        "    [0,1,0],\r\n",
        "    [1,0,0],\r\n",
        "    [1,0,0],\r\n",
        "], dtype=np.float32)\r\n",
        "\r\n",
        "nb_classes = 3 # num of classes\r\n",
        "\r\n",
        "\r\n",
        "# Weight, bias\r\n",
        "W = tf.Variable(tf.random.normal([4,3]), name='Weight')\r\n",
        "b = tf.Variable(tf.random.normal([1]), name='bias')\r\n",
        "\r\n",
        "\r\n",
        "########\r\n",
        "# raw code\r\n",
        "\r\n",
        "# hypothesis = 일차함수 W*X + b, softmax로 y값 확률으로 바꾸기\r\n",
        "hypothesis = tf.nn.softmax(tf.matmul(x_data,W)+b)\r\n",
        "print(hypothesis)\r\n",
        "\r\n",
        "# cost function : cross entropy\r\n",
        "cost = tf.reduce_mean( - tf.reduce_sum(y_data * tf.math.log(hypothesis), axis=1))\r\n",
        "print(cost)\r\n",
        "\r\n",
        "# optimizer (Gradient Descent에 사용되는 도구)\r\n",
        "optimizer= tf.keras.optimizers.SGD(learning_rate=0.01)\r\n"
      ],
      "execution_count": 32,
      "outputs": [
        {
          "output_type": "stream",
          "text": [
            "tf.Tensor(\n",
            "[[6.8918709e-03 1.4897143e-02 9.7821099e-01]\n",
            " [1.1290295e-04 3.5197347e-05 9.9985182e-01]\n",
            " [1.6917064e-06 1.2495858e-07 9.9999821e-01]\n",
            " [1.3066833e-08 3.6102327e-10 1.0000000e+00]\n",
            " [1.9248882e-10 4.8596608e-08 1.0000000e+00]\n",
            " [9.3114583e-10 1.7193391e-09 1.0000000e+00]\n",
            " [1.2788758e-11 1.2434965e-09 1.0000000e+00]\n",
            " [1.9733760e-13 4.9706475e-11 1.0000000e+00]], shape=(8, 3), dtype=float32)\n",
            "tf.Tensor(14.140202, shape=(), dtype=float32)\n"
          ],
          "name": "stdout"
        }
      ]
    },
    {
      "cell_type": "code",
      "metadata": {
        "colab": {
          "base_uri": "https://localhost:8080/"
        },
        "id": "S2j6iOV9vr2J",
        "outputId": "9c70a253-9bee-4010-bbca-8fd8784b19e1"
      },
      "source": [
        "###############################################################################\r\n",
        "# 함수 형태로 작성\r\n",
        "\r\n",
        "# softmax hypothesis\r\n",
        "def hypothesis(X): \r\n",
        "    base = tf.matmul(X,W) + b\r\n",
        "    return tf.nn.softmax(base)\r\n",
        "\r\n",
        "hypothesis(x_data)"
      ],
      "execution_count": 33,
      "outputs": [
        {
          "output_type": "execute_result",
          "data": {
            "text/plain": [
              "<tf.Tensor: shape=(8, 3), dtype=float32, numpy=\n",
              "array([[6.8918709e-03, 1.4897143e-02, 9.7821099e-01],\n",
              "       [1.1290295e-04, 3.5197347e-05, 9.9985182e-01],\n",
              "       [1.6917064e-06, 1.2495858e-07, 9.9999821e-01],\n",
              "       [1.3066833e-08, 3.6102327e-10, 1.0000000e+00],\n",
              "       [1.9248882e-10, 4.8596608e-08, 1.0000000e+00],\n",
              "       [9.3114583e-10, 1.7193391e-09, 1.0000000e+00],\n",
              "       [1.2788758e-11, 1.2434965e-09, 1.0000000e+00],\n",
              "       [1.9733760e-13, 4.9706475e-11, 1.0000000e+00]], dtype=float32)>"
            ]
          },
          "metadata": {
            "tags": []
          },
          "execution_count": 33
        }
      ]
    },
    {
      "cell_type": "code",
      "metadata": {
        "colab": {
          "base_uri": "https://localhost:8080/"
        },
        "id": "n4qTn2EPMaWy",
        "outputId": "7e72ca31-e90a-420c-ca5a-fb7ed15737e3"
      },
      "source": [
        "# cost func : cross-entropy\r\n",
        "def cost_func(X,Y):\r\n",
        "    logits=hypothesis(X)\r\n",
        "    cost_raw = - tf.reduce_sum( Y * tf.math.log(logits), axis=1)\r\n",
        "    cost_mean = tf.reduce_mean(cost_raw)\r\n",
        "    return cost_mean\r\n",
        "\r\n",
        "cost_func(x_data,y_data)"
      ],
      "execution_count": 34,
      "outputs": [
        {
          "output_type": "execute_result",
          "data": {
            "text/plain": [
              "<tf.Tensor: shape=(), dtype=float32, numpy=14.140202>"
            ]
          },
          "metadata": {
            "tags": []
          },
          "execution_count": 34
        }
      ]
    },
    {
      "cell_type": "code",
      "metadata": {
        "colab": {
          "base_uri": "https://localhost:8080/"
        },
        "id": "9rT7wYlFMbhD",
        "outputId": "87624373-c902-489f-b4a6-dc282b285d83"
      },
      "source": [
        "\r\n",
        "# gradient\r\n",
        "def grad_func(X,Y):\r\n",
        "    with tf.GradientTape() as tape:\r\n",
        "        cost=cost_func(X,Y)\r\n",
        "        grads=tape.gradient(cost, [W,b])\r\n",
        "        return grads\r\n",
        "\r\n",
        "grad_func(x_data, y_data)"
      ],
      "execution_count": 35,
      "outputs": [
        {
          "output_type": "execute_result",
          "data": {
            "text/plain": [
              "[<tf.Tensor: shape=(4, 3), dtype=float32, numpy=\n",
              " array([[-0.24910966, -0.748129  ,  0.99723864],\n",
              "        [-1.6232626 , -1.2462714 ,  2.869534  ],\n",
              "        [-1.6240956 , -1.8731247 ,  3.49722   ],\n",
              "        [-1.6241095 , -1.9981289 ,  3.6222386 ]], dtype=float32)>,\n",
              " <tf.Tensor: shape=(1,), dtype=float32, numpy=array([-4.4703484e-08], dtype=float32)>]"
            ]
          },
          "metadata": {
            "tags": []
          },
          "execution_count": 35
        }
      ]
    },
    {
      "cell_type": "code",
      "metadata": {
        "colab": {
          "base_uri": "https://localhost:8080/"
        },
        "id": "bD7rboduMfPa",
        "outputId": "420e7bb9-c59a-4148-cf46-19918ed18d35"
      },
      "source": [
        "\r\n",
        "# optimizer (Gradient Descent에 사용되는 도구)\r\n",
        "optimizer= tf.keras.optimizers.SGD(learning_rate=0.01)\r\n",
        "\r\n",
        "epoch = 5000\r\n",
        "\r\n",
        "for step in range(epoch+1):\r\n",
        "    # cost계산\r\n",
        "    # with tf.GradientTape() as tape:\r\n",
        "    #    cost = tf.reduce_mean( - tf.reduce_sum(y_data * tf.math.log(hypothesis), axis=1))\r\n",
        "        \r\n",
        "    # cost 함수에 대한 W,b의 기울기 \r\n",
        "    # grads = tape.gradient(cost, variables)\r\n",
        "\r\n",
        "    grads=grad_func(x_data, y_data)\r\n",
        "    # 기울기 gradient descent 적용\r\n",
        "    optimizer.apply_gradients(zip(grads,[W,b]))\r\n",
        "\r\n",
        "    if step % 500 == 0:\r\n",
        "        print(\"{:5} | {:12.5f}\".format(step, cost_func(x_data,y_data)))\r\n"
      ],
      "execution_count": 36,
      "outputs": [
        {
          "output_type": "stream",
          "text": [
            "    0 |     13.61860\n",
            "  500 |      0.73716\n",
            " 1000 |      0.63475\n",
            " 1500 |      0.58228\n",
            " 2000 |      0.54747\n",
            " 2500 |      0.52125\n",
            " 3000 |      0.50002\n",
            " 3500 |      0.48202\n",
            " 4000 |      0.46629\n",
            " 4500 |      0.45222\n",
            " 5000 |      0.43945\n"
          ],
          "name": "stdout"
        }
      ]
    }
  ]
}