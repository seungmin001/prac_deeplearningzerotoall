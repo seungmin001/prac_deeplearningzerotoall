{
  "nbformat": 4,
  "nbformat_minor": 0,
  "metadata": {
    "colab": {
      "name": "Lab6-2 - Fancy softmax classifier .ipynb",
      "provenance": [],
      "collapsed_sections": [],
      "mount_file_id": "1P8g3ynl4wD2jc8HSilnpA5uMChRYqClW",
      "authorship_tag": "ABX9TyNUquaINFbRzo7q7Y14DdJz",
      "include_colab_link": true
    },
    "kernelspec": {
      "name": "python3",
      "display_name": "Python 3"
    }
  },
  "cells": [
    {
      "cell_type": "markdown",
      "metadata": {
        "id": "view-in-github",
        "colab_type": "text"
      },
      "source": [
        "<a href=\"https://colab.research.google.com/github/seungmin001/prac_deeplearningzerotoall/blob/main/Lab6_2_Fancy_softmax_classifier_.ipynb\" target=\"_parent\"><img src=\"https://colab.research.google.com/assets/colab-badge.svg\" alt=\"Open In Colab\"/></a>"
      ]
    },
    {
      "cell_type": "code",
      "metadata": {
        "colab": {
          "base_uri": "https://localhost:8080/"
        },
        "id": "mRmEIRufqnyr",
        "outputId": "95fed2f4-b457-4275-9308-1740e5824f95"
      },
      "source": [
        "import numpy as np\r\n",
        "import tensorflow as tf\r\n",
        "\r\n",
        "path='/content/drive/MyDrive/Colab Notebooks/deeplearning_zero_to_all/data-04-zoo.csv'\r\n",
        "\r\n",
        "data=np.loadtxt(path, delimiter=',', dtype=np.float32)\r\n",
        "x_data= data[:, 0:-1]\r\n",
        "y_data= data[:, [-1]]\r\n",
        "\r\n",
        "print(x_data.shape, y_data.shape)\r\n",
        "\r\n",
        "nb_classes=7"
      ],
      "execution_count": 14,
      "outputs": [
        {
          "output_type": "stream",
          "text": [
            "(101, 16) (101, 1)\n"
          ],
          "name": "stdout"
        }
      ]
    },
    {
      "cell_type": "code",
      "metadata": {
        "colab": {
          "base_uri": "https://localhost:8080/"
        },
        "id": "kkU3oi6XectE",
        "outputId": "bf35ea5a-23b0-403b-f5a8-acc483b34457"
      },
      "source": [
        "# Make y_data as one-hot shape\n",
        "\n",
        "y_one_hot=tf.one_hot(y_data, nb_classes)\n",
        "y_one_hot=tf.reshape(y_one_hot, [-1, nb_classes])\n",
        "\n",
        "print(y_one_hot.shape)"
      ],
      "execution_count": 15,
      "outputs": [
        {
          "output_type": "stream",
          "text": [
            "(101, 7)\n"
          ],
          "name": "stdout"
        }
      ]
    },
    {
      "cell_type": "code",
      "metadata": {
        "colab": {
          "base_uri": "https://localhost:8080/"
        },
        "id": "ebngk4nDgYwx",
        "outputId": "68235749-5f26-476d-96f2-8383f9f7bd0d"
      },
      "source": [
        "# Dataset 변환\r\n",
        "\r\n",
        "dataset= tf.data.Dataset.from_tensor_slices((x_data,y_one_hot)) # x_data옆에 y_one_hot 붙어서 저장된 dataset 생성\r\n",
        "\r\n",
        "dataset.shuffle(len(x_data)).batch(16).repeat(100)  # 처음부터 끝까지 섞고, 16개씩 묶고, 100번 반복늘림\r\n",
        "\r\n",
        "dataset"
      ],
      "execution_count": 16,
      "outputs": [
        {
          "output_type": "execute_result",
          "data": {
            "text/plain": [
              "<TensorSliceDataset shapes: ((16,), (7,)), types: (tf.float32, tf.float32)>"
            ]
          },
          "metadata": {
            "tags": []
          },
          "execution_count": 16
        }
      ]
    },
    {
      "cell_type": "code",
      "metadata": {
        "id": "H445iCgXmCY3"
      },
      "source": [
        "# Weight, bias\r\n",
        "W = tf.Variable(tf.random.normal([ x_data.shape[1] , nb_classes])) # 동물 특징 16가지임\r\n",
        "b = tf.Variable(tf.random.normal([ nb_classes ])) # label만큼..\r\n",
        "\r\n",
        "#softmax\r\n",
        "def logit_fn(X):    # return 식을 logit라고 함\r\n",
        "    return tf.matmul(X,W)+b\r\n",
        "\r\n",
        "def cost_fn(X,Y):\r\n",
        "    logits = logit_fn(X)\r\n",
        "    # fancy function\r\n",
        "    cost_i = tf.nn.softmax_cross_entropy_with_logits(Y,logits)\r\n",
        "    cost_mean = tf.reduce_mean(cost_i)\r\n",
        "    return cost_mean\r\n",
        "\r\n",
        "def grad_fn(X,Y):\r\n",
        "    with tf.GradientTape() as tape:\r\n",
        "        cost = cost_fn(X,Y)\r\n",
        "        grads = tape.gradient(cost, [W,b])\r\n",
        "        return grads\r\n",
        "\r\n",
        "\r\n",
        "# 검증을 위한 함수\r\n",
        "def hypothesis(X):\r\n",
        "    return tf.nn.softmax(logit_fn(X))\r\n",
        "\r\n",
        "def prediction(X, Y):\r\n",
        "    pred = tf.argmax(hypothesis(X), axis=1)\r\n",
        "    correct = tf.argmax(y_one_hot, axis=1)\r\n",
        "    correct_pred = tf.equal(pred, correct) # element-wise 비교해서 각 항마다 True, false 적힘\r\n",
        "\r\n",
        "    accuracy = tf.reduce_mean(tf.cast(correct_pred, tf.float32))\r\n",
        "    return accuracy\r\n"
      ],
      "execution_count": 28,
      "outputs": []
    },
    {
      "cell_type": "code",
      "metadata": {
        "colab": {
          "base_uri": "https://localhost:8080/"
        },
        "id": "1QFYYUfUqNIw",
        "outputId": "e53b1565-9c0b-47b4-b014-2c0505c9cd13"
      },
      "source": [
        "# Training\r\n",
        "\r\n",
        "def fit(X, Y, epochs=100, verbose=50): # verbose 출력 언제할지 정하는거\r\n",
        "    opt = tf.optimizers.SGD(learning_rate=0.1)\r\n",
        "\r\n",
        "    for step in range(epochs):\r\n",
        "        grads=grad_fn(X,Y)\r\n",
        "        opt.apply_gradients(zip(grads, [W,b]))\r\n",
        "        \r\n",
        "        if (step==0) or ((step+1)%verbose==0) :\r\n",
        "            acc = prediction(X,Y).numpy()\r\n",
        "            loss = tf.reduce_sum(cost_fn(X,Y)).numpy()\r\n",
        "\r\n",
        "            print(\"Acc & loss at {:5} epoch : {:10.4f} {:12.4f}\".format(step+1, acc, loss))\r\n",
        "         \r\n",
        "fit(x_data, y_one_hot, epochs=1000, verbose=100)            "
      ],
      "execution_count": 29,
      "outputs": [
        {
          "output_type": "stream",
          "text": [
            "Acc & loss at     1 epoch :     0.1782       6.6252\n",
            "Acc & loss at   100 epoch :     0.7921       0.6307\n",
            "Acc & loss at   200 epoch :     0.9109       0.3686\n",
            "Acc & loss at   300 epoch :     0.9208       0.2661\n",
            "Acc & loss at   400 epoch :     0.9505       0.2098\n",
            "Acc & loss at   500 epoch :     0.9703       0.1736\n",
            "Acc & loss at   600 epoch :     0.9703       0.1481\n",
            "Acc & loss at   700 epoch :     0.9802       0.1290\n",
            "Acc & loss at   800 epoch :     0.9802       0.1143\n",
            "Acc & loss at   900 epoch :     0.9901       0.1025\n",
            "Acc & loss at  1000 epoch :     1.0000       0.0930\n"
          ],
          "name": "stdout"
        }
      ]
    }
  ]
}