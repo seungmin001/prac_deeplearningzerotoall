{
  "nbformat": 4,
  "nbformat_minor": 0,
  "metadata": {
    "colab": {
      "name": "Lab2 - Simple Linear Regression.ipynb",
      "provenance": [],
      "collapsed_sections": [],
      "authorship_tag": "ABX9TyPZWD9BZY6gtGDeqgObwJnm",
      "include_colab_link": true
    },
    "kernelspec": {
      "name": "python3",
      "display_name": "Python 3"
    }
  },
  "cells": [
    {
      "cell_type": "markdown",
      "metadata": {
        "id": "view-in-github",
        "colab_type": "text"
      },
      "source": [
        "<a href=\"https://colab.research.google.com/github/seungmin001/prac_deeplearningzerotoall/blob/main/Lab2_Simple_Linear_Regression.ipynb\" target=\"_parent\"><img src=\"https://colab.research.google.com/assets/colab-badge.svg\" alt=\"Open In Colab\"/></a>"
      ]
    },
    {
      "cell_type": "code",
      "metadata": {
        "id": "nDDbXfMfBWAJ",
        "colab": {
          "base_uri": "https://localhost:8080/"
        },
        "outputId": "5c3893c1-3022-4b6c-b16b-e888d44424bf"
      },
      "source": [
        "import tensorflow as tf\r\n",
        "\r\n",
        "tf.executing_eagerly()"
      ],
      "execution_count": 1,
      "outputs": [
        {
          "output_type": "execute_result",
          "data": {
            "text/plain": [
              "True"
            ]
          },
          "metadata": {
            "tags": []
          },
          "execution_count": 1
        }
      ]
    },
    {
      "cell_type": "code",
      "metadata": {
        "colab": {
          "base_uri": "https://localhost:8080/"
        },
        "id": "R5bKxBTJ-Lke",
        "outputId": "f45cf329-d802-471b-d1e9-467fd5167626"
      },
      "source": [
        "import tensorflow as tf\r\n",
        "\r\n",
        "# Data\r\n",
        "x_data = [1,2,3,4,5]\r\n",
        "y_data = [1,2,3,4,5]\r\n",
        "\r\n",
        "# W,b initialize\r\n",
        "W=tf.Variable(2.9)\r\n",
        "b=tf.Variable(0.5)\r\n",
        "\r\n",
        "learning_rate=0.01 # 구한 기울기의 0.01만 반영\r\n",
        "\r\n",
        "# 101번 반복\r\n",
        "for i in range(100+1): # W,b update\r\n",
        "    #Gradient descent\r\n",
        "    with tf.GradientTape() as tape:\r\n",
        "        hypothesis= W * x_data + b\r\n",
        "        cost= tf.reduce_mean(tf.square(hypothesis - y_data))\r\n",
        "    W_grad, b_grad = tape.gradient(cost, [W, b])\r\n",
        "    W.assign_sub(learning_rate * W_grad)\r\n",
        "    b.assign_sub(learning_rate * b_grad)\r\n",
        "\r\n",
        "    if(i%10 == 0): #10번 마다 출력\r\n",
        "        print(\"{:5}|{:10.4f}|{:10.4f}|{:10.6f}\".format(i,W.numpy(),b.numpy(),cost))"
      ],
      "execution_count": 3,
      "outputs": [
        {
          "output_type": "stream",
          "text": [
            "    0|    2.4520|    0.3760| 45.660004\n",
            "   10|    1.1036|    0.0034|  0.206336\n",
            "   20|    1.0128|   -0.0209|  0.001026\n",
            "   30|    1.0065|   -0.0218|  0.000093\n",
            "   40|    1.0059|   -0.0212|  0.000083\n",
            "   50|    1.0057|   -0.0205|  0.000077\n",
            "   60|    1.0055|   -0.0198|  0.000072\n",
            "   70|    1.0053|   -0.0192|  0.000067\n",
            "   80|    1.0051|   -0.0185|  0.000063\n",
            "   90|    1.0050|   -0.0179|  0.000059\n",
            "  100|    1.0048|   -0.0173|  0.000055\n"
          ],
          "name": "stdout"
        }
      ]
    }
  ]
}